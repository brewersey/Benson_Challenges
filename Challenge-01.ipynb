{
 "cells": [
  {
   "cell_type": "code",
   "execution_count": 16,
   "metadata": {
    "collapsed": false
   },
   "outputs": [
    {
     "name": "stdout",
     "output_type": "stream",
     "text": [
      "--2017-04-13 09:13:49--  http://web.mta.info/developers/data/nyct/turnstile/turnstile_170408.txt?raw=true\n",
      "Resolving web.mta.info... 66.110.33.216, 66.110.33.240\n",
      "Connecting to web.mta.info|66.110.33.216|:80... connected.\n",
      "HTTP request sent, awaiting response... 200 OK\n",
      "Length: unspecified [text/plain]\n",
      "Saving to: ‘turnstile_170408.txt’\n",
      "\n",
      "turnstile_170408.tx     [<=>                 ]  24.69M  1.48MB/s    in 17s     \n",
      "\n",
      "2017-04-13 09:14:07 (1.45 MB/s) - ‘turnstile_170408.txt’ saved [25891626]\n",
      "\n"
     ]
    }
   ],
   "source": [
    "#Challenge Question 1 Starts Here\n",
    "import csv\n",
    "!wget -O turnstile_170408.txt http://web.mta.info/developers/data/nyct/turnstile/turnstile_170408.txt?raw=true"
   ]
  },
  {
   "cell_type": "code",
   "execution_count": 8,
   "metadata": {
    "collapsed": false
   },
   "outputs": [
    {
     "name": "stdout",
     "output_type": "stream",
     "text": [
      "197646\n"
     ]
    }
   ],
   "source": [
    "count = 0\n",
    "with open('turnstile_170408.txt', 'r') as f:\n",
    "    for line in f:\n",
    "        count += 1\n",
    "print(count)"
   ]
  },
  {
   "cell_type": "code",
   "execution_count": 9,
   "metadata": {
    "collapsed": false
   },
   "outputs": [
    {
     "name": "stdout",
     "output_type": "stream",
     "text": [
      "C/A,UNIT,SCP,STATION,LINENAME,DIVISION,DATE,TIME,DESC,ENTRIES,EXITS                                                               \n",
      "\n",
      "197644\n"
     ]
    }
   ],
   "source": [
    "count = 0\n",
    "with open('turnstile_170408.txt', 'r') as f:\n",
    "    header = f.readline()\n",
    "    line = f.readline()\n",
    "    line = line.replace('\\n', '')\n",
    "    line = line.replace(' ', '')\n",
    "    lineS = line.split(',')\n",
    "    keyS = (lineS[0], lineS[1], lineS[2], lineS[3])\n",
    "    station_dic = {keyS : []}\n",
    "    station_dic[keyS].append(lineS[4:])\n",
    "    \n",
    "    for line in f:\n",
    "        line = line.replace('\\n', '')\n",
    "        line = line.replace(' ', '')\n",
    "        lineS = line.split(',')\n",
    "        keyS = (lineS[0], lineS[1], lineS[2], lineS[3])\n",
    "        if keyS in station_dic.keys():\n",
    "            station_dic[keyS].append(lineS[4:])\n",
    "        else:\n",
    "            station_dic = {keyS : []}\n",
    "            station_dic[keyS].append(lineS[4:])\n",
    "            \n",
    "        count += 1\n",
    "        #if count == 100:\n",
    "        #    break\n",
    "print(header)\n",
    "#print(line)\n",
    "#print(keyS)\n",
    "#print(lineS)\n",
    "#print(station_dic)\n",
    "#station_dic.items()\n",
    "print(count)"
   ]
  },
  {
   "cell_type": "code",
   "execution_count": 2,
   "metadata": {
    "collapsed": false
   },
   "outputs": [
    {
     "data": {
      "text/plain": [
       "dict"
      ]
     },
     "execution_count": 2,
     "metadata": {},
     "output_type": "execute_result"
    }
   ],
   "source": [
    "type(station_dic)"
   ]
  },
  {
   "cell_type": "code",
   "execution_count": 17,
   "metadata": {
    "collapsed": false
   },
   "outputs": [
    {
     "name": "stdout",
     "output_type": "stream",
     "text": [
      "2017-04-01 00:00:00\n",
      "C/A,UNIT,SCP,STATION,LINENAME,DIVISION,DATE,TIME,DESC,ENTRIES,EXITS                                                               \n",
      "\n",
      "dict_items([(('TRAM2', 'R469', '00-05-01', 'RIT-ROOSEVELT'), [datetime.datetime(2017, 4, 1, 1, 0), datetime.datetime(2017, 4, 1, 5, 0), datetime.datetime(2017, 4, 1, 9, 0), datetime.datetime(2017, 4, 1, 13, 0), datetime.datetime(2017, 4, 1, 17, 0), datetime.datetime(2017, 4, 1, 21, 0), datetime.datetime(2017, 4, 2, 1, 0), datetime.datetime(2017, 4, 2, 5, 0), datetime.datetime(2017, 4, 2, 9, 0), datetime.datetime(2017, 4, 2, 13, 0), datetime.datetime(2017, 4, 2, 17, 0), datetime.datetime(2017, 4, 2, 21, 0), datetime.datetime(2017, 4, 3, 1, 0), datetime.datetime(2017, 4, 3, 5, 0), datetime.datetime(2017, 4, 3, 9, 0), datetime.datetime(2017, 4, 4, 1, 0), datetime.datetime(2017, 4, 4, 5, 0), datetime.datetime(2017, 4, 4, 9, 0), datetime.datetime(2017, 4, 4, 13, 0), datetime.datetime(2017, 4, 4, 17, 0), datetime.datetime(2017, 4, 4, 21, 0), datetime.datetime(2017, 4, 5, 1, 0), datetime.datetime(2017, 4, 5, 5, 0), datetime.datetime(2017, 4, 5, 9, 0), datetime.datetime(2017, 4, 5, 13, 0), datetime.datetime(2017, 4, 5, 17, 0), datetime.datetime(2017, 4, 5, 21, 0), datetime.datetime(2017, 4, 6, 1, 0), datetime.datetime(2017, 4, 6, 5, 0), datetime.datetime(2017, 4, 6, 9, 0), datetime.datetime(2017, 4, 6, 13, 0), datetime.datetime(2017, 4, 6, 17, 0), datetime.datetime(2017, 4, 6, 21, 0), datetime.datetime(2017, 4, 7, 1, 0), datetime.datetime(2017, 4, 7, 5, 0), datetime.datetime(2017, 4, 7, 9, 0), datetime.datetime(2017, 4, 7, 9, 43, 1), datetime.datetime(2017, 4, 7, 13, 0), datetime.datetime(2017, 4, 7, 17, 0), datetime.datetime(2017, 4, 7, 21, 0)])])\n",
      "2017-04-07 21:00:00\n",
      "<class 'datetime.datetime'>\n"
     ]
    }
   ],
   "source": [
    "#Challenge Question 2 Starts Here\n",
    "import dateutil.parser\n",
    "count = 0\n",
    "with open('turnstile_170408.txt', 'r') as f:\n",
    "    header = f.readline()\n",
    "    line = f.readline()\n",
    "    line = line.replace('\\n', '')\n",
    "    line = line.replace(' ', '')\n",
    "    lineS = line.split(',')\n",
    "    keyS = (lineS[0], lineS[1], lineS[2], lineS[3])\n",
    "    dateTime = ' '.join([lineS[6], lineS[7]])\n",
    "    dateTime = dateutil.parser.parse(dateTime)\n",
    "    print(dateTime)\n",
    "    \n",
    "    station_dicTime = {keyS : []}\n",
    "    station_dicTime[keyS].append(dateTime)\n",
    "    \n",
    "    for line in f:\n",
    "        line = line.replace('\\n', '')\n",
    "        line = line.replace(' ', '')\n",
    "        lineS = line.split(',')\n",
    "        keyS = (lineS[0], lineS[1], lineS[2], lineS[3])\n",
    "        dateTime = ' '.join([lineS[6], lineS[7]])\n",
    "        dateTime = dateutil.parser.parse(dateTime)\n",
    "        \n",
    "        if keyS in station_dicTime.keys():\n",
    "            station_dicTime[keyS].append(dateTime)\n",
    "        else:\n",
    "            station_dicTime = {keyS : []}\n",
    "            station_dicTime[keyS].append(dateTime)\n",
    "            \n",
    "        count += 1\n",
    "        #if count == 5:\n",
    "        #    break    \n",
    "\n",
    "print(header)\n",
    "#print(line)\n",
    "#print(keyS)\n",
    "#print(lineS)\n",
    "#print(station_dicTime)\n",
    "print(station_dicTime.items())\n",
    "#print(count)\n",
    "#print(dateTime)\n",
    "print(type(dateTime))"
   ]
  },
  {
   "cell_type": "code",
   "execution_count": 18,
   "metadata": {
    "collapsed": false
   },
   "outputs": [
    {
     "name": "stdout",
     "output_type": "stream",
     "text": [
      "C/A,UNIT,SCP,STATION,LINENAME,DIVISION,DATE,TIME,DESC,ENTRIES,EXITS                                                               \n",
      "\n",
      "197644\n"
     ]
    }
   ],
   "source": [
    "#Challenge Question 3 Using Dictionary Starts Here\n",
    "count = 0\n",
    "with open('turnstile_170408.txt', 'r') as f:\n",
    "    header = f.readline()\n",
    "    line = f.readline()\n",
    "    line = line.replace('\\n', '')\n",
    "    line = line.replace(' ', '')\n",
    "    lineS = line.split(',')\n",
    "    keyS = (lineS[0], lineS[1], lineS[2], lineS[3])\n",
    "    sameDay = lineS[6]\n",
    "    entries = int(lineS[9])\n",
    "    exits = int(lineS[10])\n",
    "    station_dic = {keyS : []}\n",
    "    station_dic[keyS].append(lineS[4:])\n",
    "    masterKey = keyS\n",
    "    \n",
    "    for line in f:\n",
    "        line = line.replace('\\n', '')\n",
    "        line = line.replace(' ', '')\n",
    "        lineS = line.split(',')\n",
    "        keyS = (lineS[0], lineS[1], lineS[2], lineS[3])\n",
    "        if keyS in station_dic.keys():\n",
    "            if lineS[6] == sameDay:\n",
    "                entries = int(lineS[9]) + entries\n",
    "                exits = int(lineS[10]) + exits\n",
    "                station_dic[keyS].append([lineS[4:6], entries, exits])\n",
    "            else:\n",
    "                entries = int(lineS[9])\n",
    "                exits = int(lineS[10])\n",
    "                station_dic[keyS].append([lineS[4:6], entries, exits])\n",
    "        else:\n",
    "            station_dic = {keyS : []}\n",
    "            station_dic[keyS].append([lineS[4:6], lineS[9], lineS[10]])\n",
    "            \n",
    "        count += 1\n",
    "        #if count == 5:\n",
    "        #    break\n",
    "print(header)\n",
    "#print(line)\n",
    "#print(keyS)\n",
    "#print(lineS)\n",
    "#print(station_dic)\n",
    "#print(station_dic.items())\n",
    "print(count)"
   ]
  },
  {
   "cell_type": "code",
   "execution_count": 108,
   "metadata": {
    "collapsed": false
   },
   "outputs": [
    {
     "name": "stdout",
     "output_type": "stream",
     "text": [
      "dict_keys([('TRAM2', 'R469', '00-05-01', 'RIT-ROOSEVELT')])\n"
     ]
    }
   ],
   "source": [
    "print(station_dic.keys())"
   ]
  },
  {
   "cell_type": "code",
   "execution_count": 19,
   "metadata": {
    "collapsed": false
   },
   "outputs": [],
   "source": [
    "#Challenge Question 3 Using Pandas Starts Here\n",
    "import pandas as pd\n",
    "\n",
    "turnstileData = pd.read_csv('turnstile_170408.txt')"
   ]
  },
  {
   "cell_type": "code",
   "execution_count": 22,
   "metadata": {
    "collapsed": false
   },
   "outputs": [
    {
     "data": {
      "text/html": [
       "<div>\n",
       "<table border=\"1\" class=\"dataframe\">\n",
       "  <thead>\n",
       "    <tr style=\"text-align: right;\">\n",
       "      <th></th>\n",
       "      <th>C/A</th>\n",
       "      <th>UNIT</th>\n",
       "      <th>SCP</th>\n",
       "      <th>STATION</th>\n",
       "      <th>LINENAME</th>\n",
       "      <th>DIVISION</th>\n",
       "      <th>DATE</th>\n",
       "      <th>TIME</th>\n",
       "      <th>DESC</th>\n",
       "      <th>ENTRIES</th>\n",
       "      <th>EXITS</th>\n",
       "    </tr>\n",
       "  </thead>\n",
       "  <tbody>\n",
       "    <tr>\n",
       "      <th>0</th>\n",
       "      <td>A002</td>\n",
       "      <td>R051</td>\n",
       "      <td>02-00-00</td>\n",
       "      <td>59 ST</td>\n",
       "      <td>NQR456W</td>\n",
       "      <td>BMT</td>\n",
       "      <td>04/01/2017</td>\n",
       "      <td>00:00:00</td>\n",
       "      <td>REGULAR</td>\n",
       "      <td>6117586</td>\n",
       "      <td>2072818</td>\n",
       "    </tr>\n",
       "    <tr>\n",
       "      <th>1</th>\n",
       "      <td>A002</td>\n",
       "      <td>R051</td>\n",
       "      <td>02-00-00</td>\n",
       "      <td>59 ST</td>\n",
       "      <td>NQR456W</td>\n",
       "      <td>BMT</td>\n",
       "      <td>04/01/2017</td>\n",
       "      <td>04:00:00</td>\n",
       "      <td>REGULAR</td>\n",
       "      <td>6117617</td>\n",
       "      <td>2072823</td>\n",
       "    </tr>\n",
       "    <tr>\n",
       "      <th>2</th>\n",
       "      <td>A002</td>\n",
       "      <td>R051</td>\n",
       "      <td>02-00-00</td>\n",
       "      <td>59 ST</td>\n",
       "      <td>NQR456W</td>\n",
       "      <td>BMT</td>\n",
       "      <td>04/01/2017</td>\n",
       "      <td>08:00:00</td>\n",
       "      <td>REGULAR</td>\n",
       "      <td>6117635</td>\n",
       "      <td>2072856</td>\n",
       "    </tr>\n",
       "    <tr>\n",
       "      <th>3</th>\n",
       "      <td>A002</td>\n",
       "      <td>R051</td>\n",
       "      <td>02-00-00</td>\n",
       "      <td>59 ST</td>\n",
       "      <td>NQR456W</td>\n",
       "      <td>BMT</td>\n",
       "      <td>04/01/2017</td>\n",
       "      <td>12:00:00</td>\n",
       "      <td>REGULAR</td>\n",
       "      <td>6117746</td>\n",
       "      <td>2072972</td>\n",
       "    </tr>\n",
       "    <tr>\n",
       "      <th>4</th>\n",
       "      <td>A002</td>\n",
       "      <td>R051</td>\n",
       "      <td>02-00-00</td>\n",
       "      <td>59 ST</td>\n",
       "      <td>NQR456W</td>\n",
       "      <td>BMT</td>\n",
       "      <td>04/01/2017</td>\n",
       "      <td>16:00:00</td>\n",
       "      <td>REGULAR</td>\n",
       "      <td>6118002</td>\n",
       "      <td>2073040</td>\n",
       "    </tr>\n",
       "  </tbody>\n",
       "</table>\n",
       "</div>"
      ],
      "text/plain": [
       "    C/A  UNIT       SCP STATION LINENAME DIVISION        DATE      TIME  \\\n",
       "0  A002  R051  02-00-00   59 ST  NQR456W      BMT  04/01/2017  00:00:00   \n",
       "1  A002  R051  02-00-00   59 ST  NQR456W      BMT  04/01/2017  04:00:00   \n",
       "2  A002  R051  02-00-00   59 ST  NQR456W      BMT  04/01/2017  08:00:00   \n",
       "3  A002  R051  02-00-00   59 ST  NQR456W      BMT  04/01/2017  12:00:00   \n",
       "4  A002  R051  02-00-00   59 ST  NQR456W      BMT  04/01/2017  16:00:00   \n",
       "\n",
       "      DESC  ENTRIES  \\\n",
       "0  REGULAR  6117586   \n",
       "1  REGULAR  6117617   \n",
       "2  REGULAR  6117635   \n",
       "3  REGULAR  6117746   \n",
       "4  REGULAR  6118002   \n",
       "\n",
       "   EXITS                                                                 \n",
       "0                                            2072818                     \n",
       "1                                            2072823                     \n",
       "2                                            2072856                     \n",
       "3                                            2072972                     \n",
       "4                                            2073040                     "
      ]
     },
     "execution_count": 22,
     "metadata": {},
     "output_type": "execute_result"
    }
   ],
   "source": [
    "turnstileData.head()"
   ]
  },
  {
   "cell_type": "code",
   "execution_count": 23,
   "metadata": {
    "collapsed": false
   },
   "outputs": [],
   "source": [
    "turnstileEntries = turnstileData[['C/A', 'UNIT', 'SCP', 'STATION', 'DATE', 'ENTRIES']]"
   ]
  },
  {
   "cell_type": "code",
   "execution_count": 24,
   "metadata": {
    "collapsed": false,
    "scrolled": true
   },
   "outputs": [
    {
     "data": {
      "text/html": [
       "<div>\n",
       "<table border=\"1\" class=\"dataframe\">\n",
       "  <thead>\n",
       "    <tr style=\"text-align: right;\">\n",
       "      <th></th>\n",
       "      <th>C/A</th>\n",
       "      <th>UNIT</th>\n",
       "      <th>SCP</th>\n",
       "      <th>STATION</th>\n",
       "      <th>DATE</th>\n",
       "      <th>ENTRIES</th>\n",
       "    </tr>\n",
       "  </thead>\n",
       "  <tbody>\n",
       "    <tr>\n",
       "      <th>0</th>\n",
       "      <td>A002</td>\n",
       "      <td>R051</td>\n",
       "      <td>02-00-00</td>\n",
       "      <td>59 ST</td>\n",
       "      <td>04/01/2017</td>\n",
       "      <td>6117586</td>\n",
       "    </tr>\n",
       "    <tr>\n",
       "      <th>1</th>\n",
       "      <td>A002</td>\n",
       "      <td>R051</td>\n",
       "      <td>02-00-00</td>\n",
       "      <td>59 ST</td>\n",
       "      <td>04/01/2017</td>\n",
       "      <td>6117617</td>\n",
       "    </tr>\n",
       "    <tr>\n",
       "      <th>2</th>\n",
       "      <td>A002</td>\n",
       "      <td>R051</td>\n",
       "      <td>02-00-00</td>\n",
       "      <td>59 ST</td>\n",
       "      <td>04/01/2017</td>\n",
       "      <td>6117635</td>\n",
       "    </tr>\n",
       "    <tr>\n",
       "      <th>3</th>\n",
       "      <td>A002</td>\n",
       "      <td>R051</td>\n",
       "      <td>02-00-00</td>\n",
       "      <td>59 ST</td>\n",
       "      <td>04/01/2017</td>\n",
       "      <td>6117746</td>\n",
       "    </tr>\n",
       "    <tr>\n",
       "      <th>4</th>\n",
       "      <td>A002</td>\n",
       "      <td>R051</td>\n",
       "      <td>02-00-00</td>\n",
       "      <td>59 ST</td>\n",
       "      <td>04/01/2017</td>\n",
       "      <td>6118002</td>\n",
       "    </tr>\n",
       "  </tbody>\n",
       "</table>\n",
       "</div>"
      ],
      "text/plain": [
       "    C/A  UNIT       SCP STATION        DATE  ENTRIES\n",
       "0  A002  R051  02-00-00   59 ST  04/01/2017  6117586\n",
       "1  A002  R051  02-00-00   59 ST  04/01/2017  6117617\n",
       "2  A002  R051  02-00-00   59 ST  04/01/2017  6117635\n",
       "3  A002  R051  02-00-00   59 ST  04/01/2017  6117746\n",
       "4  A002  R051  02-00-00   59 ST  04/01/2017  6118002"
      ]
     },
     "execution_count": 24,
     "metadata": {},
     "output_type": "execute_result"
    }
   ],
   "source": [
    "turnstileEntries.head()"
   ]
  },
  {
   "cell_type": "code",
   "execution_count": 25,
   "metadata": {
    "collapsed": true
   },
   "outputs": [],
   "source": [
    "df = (turnstileEntries['C/A'] == 'A002') &  (turnstileEntries['UNIT'] == 'A002')\n",
    "df = (turnstileEntries['SCP'] == '02-00-00') & (turnstileEntries['STATION'] == '59 ST')"
   ]
  },
  {
   "cell_type": "code",
   "execution_count": 26,
   "metadata": {
    "collapsed": false
   },
   "outputs": [
    {
     "data": {
      "text/html": [
       "<div>\n",
       "<table border=\"1\" class=\"dataframe\">\n",
       "  <thead>\n",
       "    <tr style=\"text-align: right;\">\n",
       "      <th></th>\n",
       "      <th>C/A</th>\n",
       "      <th>UNIT</th>\n",
       "      <th>SCP</th>\n",
       "      <th>STATION</th>\n",
       "      <th>DATE</th>\n",
       "      <th>ENTRIES</th>\n",
       "    </tr>\n",
       "  </thead>\n",
       "  <tbody>\n",
       "    <tr>\n",
       "      <th>0</th>\n",
       "      <td>A002</td>\n",
       "      <td>R051</td>\n",
       "      <td>02-00-00</td>\n",
       "      <td>59 ST</td>\n",
       "      <td>04/01/2017</td>\n",
       "      <td>6117586</td>\n",
       "    </tr>\n",
       "    <tr>\n",
       "      <th>1</th>\n",
       "      <td>A002</td>\n",
       "      <td>R051</td>\n",
       "      <td>02-00-00</td>\n",
       "      <td>59 ST</td>\n",
       "      <td>04/01/2017</td>\n",
       "      <td>6117617</td>\n",
       "    </tr>\n",
       "    <tr>\n",
       "      <th>2</th>\n",
       "      <td>A002</td>\n",
       "      <td>R051</td>\n",
       "      <td>02-00-00</td>\n",
       "      <td>59 ST</td>\n",
       "      <td>04/01/2017</td>\n",
       "      <td>6117635</td>\n",
       "    </tr>\n",
       "    <tr>\n",
       "      <th>3</th>\n",
       "      <td>A002</td>\n",
       "      <td>R051</td>\n",
       "      <td>02-00-00</td>\n",
       "      <td>59 ST</td>\n",
       "      <td>04/01/2017</td>\n",
       "      <td>6117746</td>\n",
       "    </tr>\n",
       "    <tr>\n",
       "      <th>4</th>\n",
       "      <td>A002</td>\n",
       "      <td>R051</td>\n",
       "      <td>02-00-00</td>\n",
       "      <td>59 ST</td>\n",
       "      <td>04/01/2017</td>\n",
       "      <td>6118002</td>\n",
       "    </tr>\n",
       "    <tr>\n",
       "      <th>5</th>\n",
       "      <td>A002</td>\n",
       "      <td>R051</td>\n",
       "      <td>02-00-00</td>\n",
       "      <td>59 ST</td>\n",
       "      <td>04/01/2017</td>\n",
       "      <td>6118355</td>\n",
       "    </tr>\n",
       "    <tr>\n",
       "      <th>6</th>\n",
       "      <td>A002</td>\n",
       "      <td>R051</td>\n",
       "      <td>02-00-00</td>\n",
       "      <td>59 ST</td>\n",
       "      <td>04/02/2017</td>\n",
       "      <td>6118582</td>\n",
       "    </tr>\n",
       "    <tr>\n",
       "      <th>7</th>\n",
       "      <td>A002</td>\n",
       "      <td>R051</td>\n",
       "      <td>02-00-00</td>\n",
       "      <td>59 ST</td>\n",
       "      <td>04/02/2017</td>\n",
       "      <td>6118623</td>\n",
       "    </tr>\n",
       "    <tr>\n",
       "      <th>8</th>\n",
       "      <td>A002</td>\n",
       "      <td>R051</td>\n",
       "      <td>02-00-00</td>\n",
       "      <td>59 ST</td>\n",
       "      <td>04/02/2017</td>\n",
       "      <td>6118641</td>\n",
       "    </tr>\n",
       "    <tr>\n",
       "      <th>9</th>\n",
       "      <td>A002</td>\n",
       "      <td>R051</td>\n",
       "      <td>02-00-00</td>\n",
       "      <td>59 ST</td>\n",
       "      <td>04/02/2017</td>\n",
       "      <td>6118728</td>\n",
       "    </tr>\n",
       "    <tr>\n",
       "      <th>10</th>\n",
       "      <td>A002</td>\n",
       "      <td>R051</td>\n",
       "      <td>02-00-00</td>\n",
       "      <td>59 ST</td>\n",
       "      <td>04/02/2017</td>\n",
       "      <td>6118926</td>\n",
       "    </tr>\n",
       "    <tr>\n",
       "      <th>11</th>\n",
       "      <td>A002</td>\n",
       "      <td>R051</td>\n",
       "      <td>02-00-00</td>\n",
       "      <td>59 ST</td>\n",
       "      <td>04/02/2017</td>\n",
       "      <td>6119175</td>\n",
       "    </tr>\n",
       "    <tr>\n",
       "      <th>12</th>\n",
       "      <td>A002</td>\n",
       "      <td>R051</td>\n",
       "      <td>02-00-00</td>\n",
       "      <td>59 ST</td>\n",
       "      <td>04/03/2017</td>\n",
       "      <td>6119319</td>\n",
       "    </tr>\n",
       "    <tr>\n",
       "      <th>13</th>\n",
       "      <td>A002</td>\n",
       "      <td>R051</td>\n",
       "      <td>02-00-00</td>\n",
       "      <td>59 ST</td>\n",
       "      <td>04/03/2017</td>\n",
       "      <td>6119343</td>\n",
       "    </tr>\n",
       "  </tbody>\n",
       "</table>\n",
       "</div>"
      ],
      "text/plain": [
       "     C/A  UNIT       SCP STATION        DATE  ENTRIES\n",
       "0   A002  R051  02-00-00   59 ST  04/01/2017  6117586\n",
       "1   A002  R051  02-00-00   59 ST  04/01/2017  6117617\n",
       "2   A002  R051  02-00-00   59 ST  04/01/2017  6117635\n",
       "3   A002  R051  02-00-00   59 ST  04/01/2017  6117746\n",
       "4   A002  R051  02-00-00   59 ST  04/01/2017  6118002\n",
       "5   A002  R051  02-00-00   59 ST  04/01/2017  6118355\n",
       "6   A002  R051  02-00-00   59 ST  04/02/2017  6118582\n",
       "7   A002  R051  02-00-00   59 ST  04/02/2017  6118623\n",
       "8   A002  R051  02-00-00   59 ST  04/02/2017  6118641\n",
       "9   A002  R051  02-00-00   59 ST  04/02/2017  6118728\n",
       "10  A002  R051  02-00-00   59 ST  04/02/2017  6118926\n",
       "11  A002  R051  02-00-00   59 ST  04/02/2017  6119175\n",
       "12  A002  R051  02-00-00   59 ST  04/03/2017  6119319\n",
       "13  A002  R051  02-00-00   59 ST  04/03/2017  6119343"
      ]
     },
     "execution_count": 26,
     "metadata": {},
     "output_type": "execute_result"
    }
   ],
   "source": [
    "dfp = turnstileEntries[df]\n",
    "dfp.head(14)"
   ]
  },
  {
   "cell_type": "code",
   "execution_count": 27,
   "metadata": {
    "collapsed": false
   },
   "outputs": [
    {
     "data": {
      "text/plain": [
       "0    6117586\n",
       "1    6117617\n",
       "2    6117635\n",
       "3    6117746\n",
       "4    6118002\n",
       "Name: ENTRIES, dtype: int64"
      ]
     },
     "execution_count": 27,
     "metadata": {},
     "output_type": "execute_result"
    }
   ],
   "source": [
    "dfp['ENTRIES'].head()"
   ]
  },
  {
   "cell_type": "code",
   "execution_count": 28,
   "metadata": {
    "collapsed": false
   },
   "outputs": [
    {
     "data": {
      "text/html": [
       "<div>\n",
       "<table border=\"1\" class=\"dataframe\">\n",
       "  <thead>\n",
       "    <tr style=\"text-align: right;\">\n",
       "      <th></th>\n",
       "      <th>C/A</th>\n",
       "      <th>UNIT</th>\n",
       "      <th>SCP</th>\n",
       "      <th>STATION</th>\n",
       "      <th>DATE</th>\n",
       "      <th>ENTRIES</th>\n",
       "    </tr>\n",
       "  </thead>\n",
       "  <tbody>\n",
       "    <tr>\n",
       "      <th>0</th>\n",
       "      <td>A002</td>\n",
       "      <td>R051</td>\n",
       "      <td>02-00-00</td>\n",
       "      <td>59 ST</td>\n",
       "      <td>04/01/2017</td>\n",
       "      <td>6117586</td>\n",
       "    </tr>\n",
       "    <tr>\n",
       "      <th>1</th>\n",
       "      <td>A002</td>\n",
       "      <td>R051</td>\n",
       "      <td>02-00-00</td>\n",
       "      <td>59 ST</td>\n",
       "      <td>04/01/2017</td>\n",
       "      <td>6117617</td>\n",
       "    </tr>\n",
       "    <tr>\n",
       "      <th>2</th>\n",
       "      <td>A002</td>\n",
       "      <td>R051</td>\n",
       "      <td>02-00-00</td>\n",
       "      <td>59 ST</td>\n",
       "      <td>04/01/2017</td>\n",
       "      <td>6117635</td>\n",
       "    </tr>\n",
       "    <tr>\n",
       "      <th>3</th>\n",
       "      <td>A002</td>\n",
       "      <td>R051</td>\n",
       "      <td>02-00-00</td>\n",
       "      <td>59 ST</td>\n",
       "      <td>04/01/2017</td>\n",
       "      <td>6117746</td>\n",
       "    </tr>\n",
       "    <tr>\n",
       "      <th>4</th>\n",
       "      <td>A002</td>\n",
       "      <td>R051</td>\n",
       "      <td>02-00-00</td>\n",
       "      <td>59 ST</td>\n",
       "      <td>04/01/2017</td>\n",
       "      <td>6118002</td>\n",
       "    </tr>\n",
       "  </tbody>\n",
       "</table>\n",
       "</div>"
      ],
      "text/plain": [
       "    C/A  UNIT       SCP STATION        DATE  ENTRIES\n",
       "0  A002  R051  02-00-00   59 ST  04/01/2017  6117586\n",
       "1  A002  R051  02-00-00   59 ST  04/01/2017  6117617\n",
       "2  A002  R051  02-00-00   59 ST  04/01/2017  6117635\n",
       "3  A002  R051  02-00-00   59 ST  04/01/2017  6117746\n",
       "4  A002  R051  02-00-00   59 ST  04/01/2017  6118002"
      ]
     },
     "execution_count": 28,
     "metadata": {},
     "output_type": "execute_result"
    }
   ],
   "source": [
    "dfp.head()"
   ]
  },
  {
   "cell_type": "code",
   "execution_count": 29,
   "metadata": {
    "collapsed": false
   },
   "outputs": [
    {
     "name": "stderr",
     "output_type": "stream",
     "text": [
      "/Users/thaddeusnorman/anaconda/lib/python3.6/site-packages/ipykernel/__main__.py:1: SettingWithCopyWarning: \n",
      "A value is trying to be set on a copy of a slice from a DataFrame.\n",
      "Try using .loc[row_indexer,col_indexer] = value instead\n",
      "\n",
      "See the caveats in the documentation: http://pandas.pydata.org/pandas-docs/stable/indexing.html#indexing-view-versus-copy\n",
      "  if __name__ == '__main__':\n"
     ]
    }
   ],
   "source": [
    "dfp['Corrected'] = dfp.groupby('DATE')['ENTRIES'].transform(pd.Series.diff)"
   ]
  },
  {
   "cell_type": "code",
   "execution_count": 30,
   "metadata": {
    "collapsed": false
   },
   "outputs": [
    {
     "data": {
      "text/html": [
       "<div>\n",
       "<table border=\"1\" class=\"dataframe\">\n",
       "  <thead>\n",
       "    <tr style=\"text-align: right;\">\n",
       "      <th></th>\n",
       "      <th>C/A</th>\n",
       "      <th>UNIT</th>\n",
       "      <th>SCP</th>\n",
       "      <th>STATION</th>\n",
       "      <th>DATE</th>\n",
       "      <th>ENTRIES</th>\n",
       "      <th>Corrected</th>\n",
       "    </tr>\n",
       "  </thead>\n",
       "  <tbody>\n",
       "    <tr>\n",
       "      <th>0</th>\n",
       "      <td>A002</td>\n",
       "      <td>R051</td>\n",
       "      <td>02-00-00</td>\n",
       "      <td>59 ST</td>\n",
       "      <td>04/01/2017</td>\n",
       "      <td>6117586</td>\n",
       "      <td>NaN</td>\n",
       "    </tr>\n",
       "    <tr>\n",
       "      <th>1</th>\n",
       "      <td>A002</td>\n",
       "      <td>R051</td>\n",
       "      <td>02-00-00</td>\n",
       "      <td>59 ST</td>\n",
       "      <td>04/01/2017</td>\n",
       "      <td>6117617</td>\n",
       "      <td>31.0</td>\n",
       "    </tr>\n",
       "    <tr>\n",
       "      <th>2</th>\n",
       "      <td>A002</td>\n",
       "      <td>R051</td>\n",
       "      <td>02-00-00</td>\n",
       "      <td>59 ST</td>\n",
       "      <td>04/01/2017</td>\n",
       "      <td>6117635</td>\n",
       "      <td>18.0</td>\n",
       "    </tr>\n",
       "    <tr>\n",
       "      <th>3</th>\n",
       "      <td>A002</td>\n",
       "      <td>R051</td>\n",
       "      <td>02-00-00</td>\n",
       "      <td>59 ST</td>\n",
       "      <td>04/01/2017</td>\n",
       "      <td>6117746</td>\n",
       "      <td>111.0</td>\n",
       "    </tr>\n",
       "    <tr>\n",
       "      <th>4</th>\n",
       "      <td>A002</td>\n",
       "      <td>R051</td>\n",
       "      <td>02-00-00</td>\n",
       "      <td>59 ST</td>\n",
       "      <td>04/01/2017</td>\n",
       "      <td>6118002</td>\n",
       "      <td>256.0</td>\n",
       "    </tr>\n",
       "    <tr>\n",
       "      <th>5</th>\n",
       "      <td>A002</td>\n",
       "      <td>R051</td>\n",
       "      <td>02-00-00</td>\n",
       "      <td>59 ST</td>\n",
       "      <td>04/01/2017</td>\n",
       "      <td>6118355</td>\n",
       "      <td>353.0</td>\n",
       "    </tr>\n",
       "    <tr>\n",
       "      <th>6</th>\n",
       "      <td>A002</td>\n",
       "      <td>R051</td>\n",
       "      <td>02-00-00</td>\n",
       "      <td>59 ST</td>\n",
       "      <td>04/02/2017</td>\n",
       "      <td>6118582</td>\n",
       "      <td>NaN</td>\n",
       "    </tr>\n",
       "    <tr>\n",
       "      <th>7</th>\n",
       "      <td>A002</td>\n",
       "      <td>R051</td>\n",
       "      <td>02-00-00</td>\n",
       "      <td>59 ST</td>\n",
       "      <td>04/02/2017</td>\n",
       "      <td>6118623</td>\n",
       "      <td>41.0</td>\n",
       "    </tr>\n",
       "    <tr>\n",
       "      <th>8</th>\n",
       "      <td>A002</td>\n",
       "      <td>R051</td>\n",
       "      <td>02-00-00</td>\n",
       "      <td>59 ST</td>\n",
       "      <td>04/02/2017</td>\n",
       "      <td>6118641</td>\n",
       "      <td>18.0</td>\n",
       "    </tr>\n",
       "    <tr>\n",
       "      <th>9</th>\n",
       "      <td>A002</td>\n",
       "      <td>R051</td>\n",
       "      <td>02-00-00</td>\n",
       "      <td>59 ST</td>\n",
       "      <td>04/02/2017</td>\n",
       "      <td>6118728</td>\n",
       "      <td>87.0</td>\n",
       "    </tr>\n",
       "    <tr>\n",
       "      <th>10</th>\n",
       "      <td>A002</td>\n",
       "      <td>R051</td>\n",
       "      <td>02-00-00</td>\n",
       "      <td>59 ST</td>\n",
       "      <td>04/02/2017</td>\n",
       "      <td>6118926</td>\n",
       "      <td>198.0</td>\n",
       "    </tr>\n",
       "    <tr>\n",
       "      <th>11</th>\n",
       "      <td>A002</td>\n",
       "      <td>R051</td>\n",
       "      <td>02-00-00</td>\n",
       "      <td>59 ST</td>\n",
       "      <td>04/02/2017</td>\n",
       "      <td>6119175</td>\n",
       "      <td>249.0</td>\n",
       "    </tr>\n",
       "    <tr>\n",
       "      <th>12</th>\n",
       "      <td>A002</td>\n",
       "      <td>R051</td>\n",
       "      <td>02-00-00</td>\n",
       "      <td>59 ST</td>\n",
       "      <td>04/03/2017</td>\n",
       "      <td>6119319</td>\n",
       "      <td>NaN</td>\n",
       "    </tr>\n",
       "    <tr>\n",
       "      <th>13</th>\n",
       "      <td>A002</td>\n",
       "      <td>R051</td>\n",
       "      <td>02-00-00</td>\n",
       "      <td>59 ST</td>\n",
       "      <td>04/03/2017</td>\n",
       "      <td>6119343</td>\n",
       "      <td>24.0</td>\n",
       "    </tr>\n",
       "  </tbody>\n",
       "</table>\n",
       "</div>"
      ],
      "text/plain": [
       "     C/A  UNIT       SCP STATION        DATE  ENTRIES  Corrected\n",
       "0   A002  R051  02-00-00   59 ST  04/01/2017  6117586        NaN\n",
       "1   A002  R051  02-00-00   59 ST  04/01/2017  6117617       31.0\n",
       "2   A002  R051  02-00-00   59 ST  04/01/2017  6117635       18.0\n",
       "3   A002  R051  02-00-00   59 ST  04/01/2017  6117746      111.0\n",
       "4   A002  R051  02-00-00   59 ST  04/01/2017  6118002      256.0\n",
       "5   A002  R051  02-00-00   59 ST  04/01/2017  6118355      353.0\n",
       "6   A002  R051  02-00-00   59 ST  04/02/2017  6118582        NaN\n",
       "7   A002  R051  02-00-00   59 ST  04/02/2017  6118623       41.0\n",
       "8   A002  R051  02-00-00   59 ST  04/02/2017  6118641       18.0\n",
       "9   A002  R051  02-00-00   59 ST  04/02/2017  6118728       87.0\n",
       "10  A002  R051  02-00-00   59 ST  04/02/2017  6118926      198.0\n",
       "11  A002  R051  02-00-00   59 ST  04/02/2017  6119175      249.0\n",
       "12  A002  R051  02-00-00   59 ST  04/03/2017  6119319        NaN\n",
       "13  A002  R051  02-00-00   59 ST  04/03/2017  6119343       24.0"
      ]
     },
     "execution_count": 30,
     "metadata": {},
     "output_type": "execute_result"
    }
   ],
   "source": [
    "dfp.head(14)"
   ]
  },
  {
   "cell_type": "code",
   "execution_count": 31,
   "metadata": {
    "collapsed": true
   },
   "outputs": [],
   "source": [
    "dfpG = dfp.groupby('DATE').sum()"
   ]
  },
  {
   "cell_type": "code",
   "execution_count": 32,
   "metadata": {
    "collapsed": false
   },
   "outputs": [
    {
     "data": {
      "text/html": [
       "<div>\n",
       "<table border=\"1\" class=\"dataframe\">\n",
       "  <thead>\n",
       "    <tr style=\"text-align: right;\">\n",
       "      <th></th>\n",
       "      <th>ENTRIES</th>\n",
       "      <th>Corrected</th>\n",
       "    </tr>\n",
       "    <tr>\n",
       "      <th>DATE</th>\n",
       "      <th></th>\n",
       "      <th></th>\n",
       "    </tr>\n",
       "  </thead>\n",
       "  <tbody>\n",
       "    <tr>\n",
       "      <th>04/01/2017</th>\n",
       "      <td>36706941</td>\n",
       "      <td>769.0</td>\n",
       "    </tr>\n",
       "    <tr>\n",
       "      <th>04/02/2017</th>\n",
       "      <td>36712675</td>\n",
       "      <td>593.0</td>\n",
       "    </tr>\n",
       "    <tr>\n",
       "      <th>04/03/2017</th>\n",
       "      <td>36718244</td>\n",
       "      <td>1406.0</td>\n",
       "    </tr>\n",
       "    <tr>\n",
       "      <th>04/04/2017</th>\n",
       "      <td>36727660</td>\n",
       "      <td>1304.0</td>\n",
       "    </tr>\n",
       "    <tr>\n",
       "      <th>04/05/2017</th>\n",
       "      <td>36736976</td>\n",
       "      <td>1332.0</td>\n",
       "    </tr>\n",
       "  </tbody>\n",
       "</table>\n",
       "</div>"
      ],
      "text/plain": [
       "             ENTRIES  Corrected\n",
       "DATE                           \n",
       "04/01/2017  36706941      769.0\n",
       "04/02/2017  36712675      593.0\n",
       "04/03/2017  36718244     1406.0\n",
       "04/04/2017  36727660     1304.0\n",
       "04/05/2017  36736976     1332.0"
      ]
     },
     "execution_count": 32,
     "metadata": {},
     "output_type": "execute_result"
    }
   ],
   "source": [
    "dfpG.head()"
   ]
  },
  {
   "cell_type": "code",
   "execution_count": 33,
   "metadata": {
    "collapsed": true
   },
   "outputs": [],
   "source": [
    "dfpG.columns = ['Entries (Uncorrected)', 'Entries (Corrected)']"
   ]
  },
  {
   "cell_type": "code",
   "execution_count": 34,
   "metadata": {
    "collapsed": false
   },
   "outputs": [
    {
     "data": {
      "text/html": [
       "<div>\n",
       "<table border=\"1\" class=\"dataframe\">\n",
       "  <thead>\n",
       "    <tr style=\"text-align: right;\">\n",
       "      <th></th>\n",
       "      <th>Entries (Uncorrected)</th>\n",
       "      <th>Entries (Corrected)</th>\n",
       "    </tr>\n",
       "    <tr>\n",
       "      <th>DATE</th>\n",
       "      <th></th>\n",
       "      <th></th>\n",
       "    </tr>\n",
       "  </thead>\n",
       "  <tbody>\n",
       "    <tr>\n",
       "      <th>04/01/2017</th>\n",
       "      <td>36706941</td>\n",
       "      <td>769.0</td>\n",
       "    </tr>\n",
       "    <tr>\n",
       "      <th>04/02/2017</th>\n",
       "      <td>36712675</td>\n",
       "      <td>593.0</td>\n",
       "    </tr>\n",
       "    <tr>\n",
       "      <th>04/03/2017</th>\n",
       "      <td>36718244</td>\n",
       "      <td>1406.0</td>\n",
       "    </tr>\n",
       "    <tr>\n",
       "      <th>04/04/2017</th>\n",
       "      <td>36727660</td>\n",
       "      <td>1304.0</td>\n",
       "    </tr>\n",
       "    <tr>\n",
       "      <th>04/05/2017</th>\n",
       "      <td>36736976</td>\n",
       "      <td>1332.0</td>\n",
       "    </tr>\n",
       "  </tbody>\n",
       "</table>\n",
       "</div>"
      ],
      "text/plain": [
       "            Entries (Uncorrected)  Entries (Corrected)\n",
       "DATE                                                  \n",
       "04/01/2017               36706941                769.0\n",
       "04/02/2017               36712675                593.0\n",
       "04/03/2017               36718244               1406.0\n",
       "04/04/2017               36727660               1304.0\n",
       "04/05/2017               36736976               1332.0"
      ]
     },
     "execution_count": 34,
     "metadata": {},
     "output_type": "execute_result"
    }
   ],
   "source": [
    "dfpG.head()"
   ]
  },
  {
   "cell_type": "code",
   "execution_count": null,
   "metadata": {
    "collapsed": true
   },
   "outputs": [],
   "source": [
    "#Challenge Question 4 Starts Here"
   ]
  },
  {
   "cell_type": "code",
   "execution_count": 35,
   "metadata": {
    "collapsed": true
   },
   "outputs": [],
   "source": [
    "%matplotlib inline\n",
    "import matplotlib.pyplot as plt"
   ]
  },
  {
   "cell_type": "code",
   "execution_count": 38,
   "metadata": {
    "collapsed": false
   },
   "outputs": [
    {
     "data": {
      "text/plain": [
       "<matplotlib.axes._subplots.AxesSubplot at 0x11adc0e48>"
      ]
     },
     "execution_count": 38,
     "metadata": {},
     "output_type": "execute_result"
    },
    {
     "data": {
      "image/png": "[encoded data removed]",
      "text/plain": [
       "<matplotlib.figure.Figure at 0x11ade3e80>"
      ]
     },
     "metadata": {},
     "output_type": "display_data"
    }
   ],
   "source": [
    "dfpG['Entries (Corrected)'].plot()"
   ]
  },
  {
   "cell_type": "code",
   "execution_count": null,
   "metadata": {
    "collapsed": true
   },
   "outputs": [],
   "source": []
  }
 ],
 "metadata": {
  "kernelspec": {
   "display_name": "Python 3",
   "language": "python",
   "name": "python3"
  },
  "language_info": {
   "codemirror_mode": {
    "name": "ipython",
    "version": 3
   },
   "file_extension": ".py",
   "mimetype": "text/x-python",
   "name": "python",
   "nbconvert_exporter": "python",
   "pygments_lexer": "ipython3",
   "version": "3.6.0"
  }
 },
 "nbformat": 4,
 "nbformat_minor": 2
}
